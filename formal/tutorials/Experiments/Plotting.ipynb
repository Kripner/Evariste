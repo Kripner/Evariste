{
    "cells": [
        {
            "cell_type": "code",
            "execution_count": 1,
            "id": "emotional-performance",
            "metadata": {},
            "outputs": [],
            "source": [
                "from pathlib import Path\n",
                "import os, sys\n",
                "sys.path.append(str(Path(os.getcwd()).parent.parent))"
            ]
        },
        {
            "cell_type": "markdown",
            "id": "resistant-ebony",
            "metadata": {},
            "source": [
                "## Grabbing results from a grid search\n",
                "\n",
                "Just use `evariste.train.utils.get_experiments` which grabs all experiments from a grid, given a list of experiments names and dump_paths to look through"
            ]
        },
        {
            "cell_type": "code",
            "execution_count": 8,
            "id": "terminal-vitamin",
            "metadata": {},
            "outputs": [],
            "source": [
                "from evariste.trainer.utils import get_experiments\n",
                "dump_paths = [\n",
                "    'YOUR_PATH/dumped/',\n",
                "]\n",
                "exps = ['']\n",
                "experiments = get_experiments(exps, dump_paths)\n",
                "\n",
                "print(f\"Loaded {len(experiments)} experiments\")"
            ]
        },
        {
            "cell_type": "markdown",
            "id": "handy-trinity",
            "metadata": {},
            "source": [
                "Don't hesitate to look around in an experiment object. Params are in a flat_dict format. What's more interesting is the `logs` key for each experiment.\n",
                "\n",
                "Let's manually plot the results from one of the experiments we grabbed."
            ]
        },
        {
            "cell_type": "code",
            "execution_count": 6,
            "id": "engaging-manufacturer",
            "metadata": {},
            "outputs": [],
            "source": [
                "from matplotlib import pyplot as plt\n",
                "\n",
                "x_key, y_key = 'hours', 'valid-eq_equality_equiv_seq2seq-proven'\n",
                "\n",
                "def grab_data_from_logs(logs):\n",
                "    x, y = [], []\n",
                "    for epoch in logs:\n",
                "        x.append(epoch[x_key])\n",
                "        y.append(epoch[y_key])\n",
                "    return x,y\n",
                "\n",
                "plt.figure(dpi=100)\n",
                "plt.plot(*grab_data_from_logs(experiments['36560935']['logs']))\n",
                "plt.xlabel(\"Hours\")\n",
                "plt.ylabel(\"% valid theorem proven\")\n",
                "plt.show()"
            ]
        },
        {
            "cell_type": "markdown",
            "id": "spare-calibration",
            "metadata": {},
            "source": [
                "In order to make life easier, `plot_experiments` is a rather complex function that let's you explore the results from a grid search. Take a look at the cell below and experiment."
            ]
        },
        {
            "cell_type": "code",
            "execution_count": 7,
            "id": "relevant-visit",
            "metadata": {},
            "outputs": [],
            "source": [
                "from evariste.trainer.plot_utils import plot_experiments\n",
                "\n",
                "def filter_data(data):\n",
                "    \"\"\"\n",
                "    Since the backward eval is finicky, sometimes it's interrupted and the value logged is -1.\n",
                "    Let's ignore these values in the plot.\n",
                "    \"\"\"\n",
                "    select = True\n",
                "    select &= data[key] >0\n",
                "    return select\n",
                "\n",
                "\n",
                "def exp_filter(exp):\n",
                "    \"\"\"\n",
                "    This can be used to select only a few experiments in the grid.\n",
                "    For exemple we could select based on the optimizer\n",
                "    \"\"\"\n",
                "    select = True\n",
                "#     select &= '0.0003' not in exp['params']['optimizer']\n",
                "    return select\n",
                "\n",
                "\n",
                "IGNORE_PREFIX = ['slurm_conf', 'master_port', 'command']\n",
                "key = 'valid-eq_equality_equiv_seq2seq-proven'\n",
                "\n",
                "\n",
                "\n",
                "# Use mpld3 for nice interactive plots you can hover on\n",
                "import mpld3\n",
                "from mpld3 import plugins\n",
                "\n",
                "mpld3.enable_notebook()\n",
                "from IPython.core.display import display, HTML\n",
                "display(HTML(\"<style>.container { width:600% !important; }</style>\"))\n",
                "\n",
                "\n",
                "\n",
                "plot_experiments(\n",
                "    'epoch',                     # x coordinate\n",
                "    [key],                       # y coordinates\n",
                "    experiments.values(),        # all experiments to plot\n",
                "    exp_filter=exp_filter,       # experiment filter defined above\n",
                "    filter_data=filter_data,     # filter points\n",
                "    higher_better=1,             # in the log below, how should the results be sorted ?\n",
                "    ignore_prefix=IGNORE_PREFIX, # prefixes to ignore when printing grid search params\n",
                "    dump_paths=dump_paths,\n",
                "    repeat_print=False,\n",
                "    with_legend=False\n",
                ")"
            ]
        }
    ],
    "metadata": {
        "kernelspec": {
            "display_name": "Python 3",
            "language": "python",
            "name": "python3"
        },
        "language_info": {
            "codemirror_mode": {
                "name": "ipython",
                "version": 3
            },
            "file_extension": ".py",
            "mimetype": "text/x-python",
            "name": "python",
            "nbconvert_exporter": "python",
            "pygments_lexer": "ipython3",
            "version": "3.8.5"
        }
    },
    "nbformat": 4,
    "nbformat_minor": 5
}
