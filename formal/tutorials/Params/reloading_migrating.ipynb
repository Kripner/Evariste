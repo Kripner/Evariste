{
 "cells": [
  {
   "cell_type": "code",
   "execution_count": 1,
   "id": "placed-recovery",
   "metadata": {},
   "outputs": [],
   "source": [
    "from pathlib import Path\n",
    "import os, sys\n",
    "sys.path.append(str(Path(os.getcwd()).parent.parent))"
   ]
  },
  {
   "cell_type": "markdown",
   "id": "blind-southwest",
   "metadata": {},
   "source": [
    "## Param reloading\n",
    "\n",
    "We can reload parameters from a dictionary that's either flat or nested. A dataclass can be exported as a nested dict."
   ]
  },
  {
   "cell_type": "code",
   "execution_count": 2,
   "id": "authentic-channels",
   "metadata": {},
   "outputs": [
    {
     "name": "stdout",
     "output_type": "stream",
     "text": [
      "C(value=1, b=B(value=2, a=A(value=3)))\n",
      "C(value=1, b=B(value=2, a=A(value=3)))\n",
      "{'value': 1, 'b': {'value': 2, 'a': {'value': 3}}}\n"
     ]
    }
   ],
   "source": [
    "from dataclasses import dataclass\n",
    "from params import Params\n",
    "from params.params import flatten_dict, asdict\n",
    "\n",
    "@dataclass\n",
    "class A(Params):\n",
    "    value: int\n",
    "        \n",
    "@dataclass\n",
    "class B(Params):\n",
    "    value: int\n",
    "    a: A\n",
    "        \n",
    "@dataclass\n",
    "class C(Params):\n",
    "    value: int\n",
    "    b: B\n",
    "\n",
    "\n",
    "print(C.from_flat({\"value\": 1, \"b.value\": 2, \"b.a.value\": 3}))\n",
    "print(C.from_flat(flatten_dict({\n",
    "    \"value\": 1,\n",
    "    \"b\": {\n",
    "        \"value\": 2,\n",
    "        \"a\": {\n",
    "            \"value\": 3\n",
    "        }\n",
    "    }\n",
    "})))\n",
    "some_C = C(value=1, b=B(value=2, a=A(value=3)))\n",
    "print(asdict(some_C))"
   ]
  },
  {
   "cell_type": "markdown",
   "id": "blocked-marina",
   "metadata": {},
   "source": [
    "## Oh NO ! I changed my Params class !\n",
    "\n",
    "Sometimes we want to add new fields to our classes. This is rather benign and is handled automagically when reloading old classes. However, what happens when we decide that `value` just isn't the right name anymore in class `B` ? We have to migrate"
   ]
  },
  {
   "cell_type": "code",
   "execution_count": 3,
   "id": "silent-timer",
   "metadata": {},
   "outputs": [
    {
     "name": "stdout",
     "output_type": "stream",
     "text": [
      "Parameter b.new_value unspecified and has no default\n"
     ]
    }
   ],
   "source": [
    "from params import MissingArg\n",
    "# Let's redefine a new B class with a new param and reload some_C\n",
    "\n",
    "@dataclass\n",
    "class B(Params):\n",
    "    value: int\n",
    "    new_value:int\n",
    "    a: A\n",
    "        \n",
    "@dataclass\n",
    "class C(Params):\n",
    "    value: int\n",
    "    b: B\n",
    "\n",
    "try:\n",
    "    C.from_flat({\"value\": 1, \"b.value\": 2, \"b.a.value\": 3})\n",
    "except MissingArg as e:\n",
    "    print(e)"
   ]
  },
  {
   "cell_type": "code",
   "execution_count": 4,
   "id": "compliant-analyst",
   "metadata": {},
   "outputs": [
    {
     "name": "stdout",
     "output_type": "stream",
     "text": [
      "C(value=1, b=B(value=2, a=A(value=3), new_value=0))\n"
     ]
    }
   ],
   "source": [
    "@dataclass\n",
    "class B(Params):\n",
    "    value: int\n",
    "    a: A\n",
    "    new_value:int = 0\n",
    "        \n",
    "@dataclass\n",
    "class C(Params):\n",
    "    value: int\n",
    "    b: B\n",
    "\n",
    "\n",
    "print(C.from_flat({\"value\": 1, \"b.value\": 2, \"b.a.value\": 3}))"
   ]
  },
  {
   "cell_type": "markdown",
   "id": "clinical-collector",
   "metadata": {},
   "source": [
    "We can add migrations for a class by appending to the global variable `migrations`. The order in which these are appended is also the order in which they will be executed.\n",
    "\n",
    "TODO: A good task to familiarize with this would be to add names to migrations and make sure they are added only once."
   ]
  },
  {
   "cell_type": "code",
   "execution_count": 5,
   "id": "useful-layer",
   "metadata": {},
   "outputs": [],
   "source": [
    "from params.migrate import migrations, migrate\n",
    "\n",
    "@dataclass\n",
    "class B(Params):\n",
    "    new_name_for_value: int\n",
    "    a: A\n",
    "        \n",
    "@dataclass\n",
    "class C(Params):\n",
    "    value: int\n",
    "    b: B\n",
    "\n",
    "        \n",
    "from functools import partial\n",
    "from evariste.trainer.migrations import rename_prefix"
   ]
  },
  {
   "cell_type": "code",
   "execution_count": 6,
   "id": "technical-employer",
   "metadata": {},
   "outputs": [],
   "source": [
    "from params.migrate import Schema, FlatDict, Migration, warn_migration, migrate\n",
    "from dataclasses import fields, is_dataclass\n",
    "\n",
    "\n",
    "def rename_field(flat_dict: FlatDict, old: str, new: str) -> FlatDict:\n",
    "    warn_migration(f\"Changing {old} to {new} in flatdict\")\n",
    "    new_dict = dict(flat_dict)  # copy\n",
    "    if old in flat_dict:\n",
    "        value = flat_dict[old]\n",
    "        new_dict.pop(old)\n",
    "        new_dict[new] = value\n",
    "    return new_dict\n",
    "\n",
    "migrations[B].append(\n",
    "    partial(rename_field, old=\"value\", new=\"new_name_for_value\")\n",
    ")  # only do this once..."
   ]
  },
  {
   "cell_type": "code",
   "execution_count": 8,
   "id": "logical-amplifier",
   "metadata": {},
   "outputs": [
    {
     "name": "stdout",
     "output_type": "stream",
     "text": [
      "\u001b[93m[MIGRATION] - Changing value to new_name_for_value in flatdict\u001b[0m\n",
      "C(value=1, b=B(new_name_for_value=2, a=A(value=3)))\n"
     ]
    }
   ],
   "source": [
    "print(C.from_flat(migrate(C, {\"value\": 1, \"b.value\": 2, \"b.a.value\": 3})))"
   ]
  },
  {
   "cell_type": "markdown",
   "id": "expanded-watson",
   "metadata": {},
   "source": [
    "## Reloading old models\n",
    "\n",
    "For historical reason, the first \"migration\" that is applied is `trainer_args_from_old`. Maybe one day we'll be able to get rid of it. \n",
    "\n",
    "In the meantime, if you want to reload a checkpoint, you should use : `evariste.model.utils.reload_ckpt` which returns TrainerArgs, Dictionary and the reloaded modules.\n",
    "\n",
    "This utility function will handle params migration for you."
   ]
  },
  {
   "cell_type": "code",
   "execution_count": null,
   "id": "hundred-roots",
   "metadata": {},
   "outputs": [],
   "source": []
  }
 ],
 "metadata": {
  "kernelspec": {
   "display_name": "Python 3",
   "language": "python",
   "name": "python3"
  },
  "language_info": {
   "codemirror_mode": {
    "name": "ipython",
    "version": 3
   },
   "file_extension": ".py",
   "mimetype": "text/x-python",
   "name": "python",
   "nbconvert_exporter": "python",
   "pygments_lexer": "ipython3",
   "version": "3.8.5"
  }
 },
 "nbformat": 4,
 "nbformat_minor": 5
}
