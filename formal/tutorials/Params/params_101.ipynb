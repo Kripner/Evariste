{
 "cells": [
  {
   "cell_type": "code",
   "execution_count": 1,
   "id": "immediate-guinea",
   "metadata": {},
   "outputs": [],
   "source": [
    "from pathlib import Path\n",
    "import os, sys\n",
    "sys.path.append(str(Path(os.getcwd()).parent.parent))"
   ]
  },
  {
   "cell_type": "markdown",
   "id": "incorporate-novelty",
   "metadata": {},
   "source": [
    "### Creating a type and associated CLI"
   ]
  },
  {
   "cell_type": "code",
   "execution_count": 11,
   "id": "laden-process",
   "metadata": {},
   "outputs": [],
   "source": [
    "from params import Params, ConfStore\n",
    "from dataclasses import dataclass\n",
    "from params.params import cfg_from_cli\n",
    "\n",
    "@dataclass\n",
    "class MyType(Params):\n",
    "    some_param: int\n",
    "    some_other_param: str = 'lol'"
   ]
  },
  {
   "cell_type": "markdown",
   "id": "pretty-given",
   "metadata": {},
   "source": [
    "cfg_from_cli accepts either a `schema`, a `base_config_name` or a `base_config`. Each argument will lead to different default values being used when parsing the CLI. \n",
    "\n",
    "`base_config_name` is a string that we look for in the ConfStore. The ConfStore is a global dictionary that holds configurations. *Be careful* not to inadvertently change someone's config in the ConfStore !  "
   ]
  },
  {
   "cell_type": "code",
   "execution_count": 12,
   "id": "powerful-threshold",
   "metadata": {},
   "outputs": [
    {
     "name": "stdout",
     "output_type": "stream",
     "text": [
      "From Schema MyType(some_param=2, some_other_param='lol')\n",
      "From BaseConfig MyType(some_param=3, some_other_param='wow')\n",
      "From BaseConfigName MyType(some_param=3, some_other_param='wow')\n"
     ]
    }
   ],
   "source": [
    "sys.argv = \"... --some_param 2\".split()\n",
    "print(\"From Schema\", cfg_from_cli(schema=MyType))\n",
    "\n",
    "base_config = MyType(some_param=3)\n",
    "sys.argv = \"... --some_other_param wow\".split()\n",
    "print(\"From BaseConfig\", cfg_from_cli(base_config=base_config))\n",
    "\n",
    "ConfStore[\"base\"] = base_config\n",
    "sys.argv = \"... --some_other_param wow\".split()\n",
    "print(\"From BaseConfigName\", cfg_from_cli(base_config_name=\"base\"))"
   ]
  },
  {
   "cell_type": "markdown",
   "id": "southwest-uganda",
   "metadata": {},
   "source": [
    "We can also specify the whole config directly with the `--cfg` option"
   ]
  },
  {
   "cell_type": "code",
   "execution_count": 13,
   "id": "resident-cuisine",
   "metadata": {},
   "outputs": [
    {
     "name": "stdout",
     "output_type": "stream",
     "text": [
      "From cfg MyType(some_param=3, some_other_param='lol')\n"
     ]
    }
   ],
   "source": [
    "sys.argv = \"... --cfg base\".split()\n",
    "print(\"From cfg\", cfg_from_cli(schema=MyType))"
   ]
  },
  {
   "cell_type": "markdown",
   "id": "moved-grant",
   "metadata": {},
   "source": [
    "## Nested Params\n",
    "Params can be nested, in which case, the ConfStore can be used to shorten command line calls"
   ]
  },
  {
   "cell_type": "code",
   "execution_count": 16,
   "id": "demonstrated-flavor",
   "metadata": {},
   "outputs": [
    {
     "name": "stdout",
     "output_type": "stream",
     "text": [
      "From cli C(value=1, b=B(value=2, a=A(value=3)))\n",
      "Shorter cmd C(value=1, b=B(value=2, a=A(value=3)))\n"
     ]
    }
   ],
   "source": [
    "@dataclass\n",
    "class A(Params):\n",
    "    value: int\n",
    "        \n",
    "@dataclass\n",
    "class B(Params):\n",
    "    value: int\n",
    "    a: A\n",
    "        \n",
    "@dataclass\n",
    "class C(Params):\n",
    "    value: int\n",
    "    b: B\n",
    "        \n",
    "sys.argv = \"... --value 1 --b.value 2 --b.a.value 3\".split()\n",
    "print(\"From cli\", cfg_from_cli(schema=C))\n",
    "\n",
    "# now let's add things to the ConfStore\n",
    "ConfStore[\"awesome_b\"] = B(value=2, a=A(value=3))\n",
    "sys.argv = \"... --value 1 --b awesome_b\".split()\n",
    "print(\"Shorter cmd\", cfg_from_cli(schema=C))"
   ]
  },
  {
   "cell_type": "markdown",
   "id": "pretty-asset",
   "metadata": {},
   "source": [
    "## A few utils\n",
    "\n",
    "Params class can be exported as flat dictionaries or json"
   ]
  },
  {
   "cell_type": "code",
   "execution_count": 17,
   "id": "initial-circular",
   "metadata": {},
   "outputs": [
    {
     "name": "stdout",
     "output_type": "stream",
     "text": [
      "{\n",
      "    \"b\": {\n",
      "        \"a\": {\n",
      "            \"value\": 3\n",
      "        },\n",
      "        \"value\": 2\n",
      "    },\n",
      "    \"value\": 1\n",
      "}\n"
     ]
    }
   ],
   "source": [
    "sys.argv = \"... --value 1 --b awesome_b\".split()\n",
    "res = cfg_from_cli(schema=C)\n",
    "\n",
    "print(res.to_json())"
   ]
  },
  {
   "cell_type": "markdown",
   "id": "stuffed-sentence",
   "metadata": {},
   "source": [
    "Our config suck, so we have to mutate them. You can either use `\\_\\_post_init\\_\\_` to check that all arguments are correct, or you can implement a `_check_and_mutate_args`.\n",
    "The latter will be called recursively on all fields of the class that are Params, allowing to do the checking and mutation of a Params class in one go."
   ]
  },
  {
   "cell_type": "code",
   "execution_count": 19,
   "id": "flying-volleyball",
   "metadata": {},
   "outputs": [
    {
     "name": "stdout",
     "output_type": "stream",
     "text": [
      "{\n",
      "    \"b\": {\n",
      "        \"a\": {\n",
      "            \"value\": 4\n",
      "        },\n",
      "        \"value\": 3\n",
      "    },\n",
      "    \"value\": 2\n",
      "}\n"
     ]
    }
   ],
   "source": [
    "@dataclass\n",
    "class A(Params):\n",
    "    value: int\n",
    "    def _check_and_mutate_args(self):\n",
    "        self.value += 1\n",
    "        \n",
    "@dataclass\n",
    "class B(Params):\n",
    "    value: int\n",
    "    a: A\n",
    "    def _check_and_mutate_args(self):\n",
    "        self.value += 1\n",
    "        \n",
    "@dataclass\n",
    "class C(Params):\n",
    "    value: int\n",
    "    b: B\n",
    "    def _check_and_mutate_args(self):\n",
    "        self.value += 1\n",
    "        \n",
    "sys.argv = \"... --value 1 --b awesome_b\".split()\n",
    "res = cfg_from_cli(schema=C)\n",
    "res.check_and_mutate_args()\n",
    "print(res.to_json())  # everything is increased by 1 ! "
   ]
  },
  {
   "cell_type": "markdown",
   "id": "crucial-cloud",
   "metadata": {},
   "source": [
    "## That's it.\n",
    "\n",
    "You should know the main Params class we use is called `TrainerArgs` and is located in `evariste.trainer.args`"
   ]
  },
  {
   "cell_type": "code",
   "execution_count": null,
   "id": "previous-scratch",
   "metadata": {},
   "outputs": [],
   "source": []
  }
 ],
 "metadata": {
  "kernelspec": {
   "display_name": "Python 3",
   "language": "python",
   "name": "python3"
  },
  "language_info": {
   "codemirror_mode": {
    "name": "ipython",
    "version": 3
   },
   "file_extension": ".py",
   "mimetype": "text/x-python",
   "name": "python",
   "nbconvert_exporter": "python",
   "pygments_lexer": "ipython3",
   "version": "3.8.5"
  }
 },
 "nbformat": 4,
 "nbformat_minor": 5
}
